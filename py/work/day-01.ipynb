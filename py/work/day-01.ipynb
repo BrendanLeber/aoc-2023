{
 "cells": [
  {
   "cell_type": "markdown",
   "id": "cfecfdea-9c4d-405e-9e17-81bd26a69634",
   "metadata": {},
   "source": [
    "# Advent of Code 2023\n",
    "## Day 1: Trebuchet?!"
   ]
  },
  {
   "cell_type": "markdown",
   "id": "c2ed51ae-c0df-4eaf-8477-32bec6dcb9ee",
   "metadata": {},
   "source": [
    "### Load and Parse Puzzle Input"
   ]
  },
  {
   "cell_type": "code",
   "execution_count": 1,
   "id": "db19e406-b7ce-40ce-a042-13516184ef3e",
   "metadata": {},
   "outputs": [
    {
     "name": "stdout",
     "output_type": "stream",
     "text": [
      "1000\n",
      "sixrrmlkptmc18zhvninek\n",
      "jmgnfive7ffglffpjlvbtvl935zz\n"
     ]
    }
   ],
   "source": [
    "puzzle_data: list[str] = []\n",
    "with open(\"input/01.txt\") as inf:\n",
    "    for line in inf:\n",
    "        puzzle_data.append(line.strip())\n",
    "\n",
    "print(len(puzzle_data))\n",
    "print(puzzle_data[0])\n",
    "print(puzzle_data[-1])"
   ]
  },
  {
   "cell_type": "markdown",
   "id": "09f5f8ed-dde5-4292-944b-598f6f7b8033",
   "metadata": {},
   "source": [
    "### Part One"
   ]
  },
  {
   "cell_type": "code",
   "execution_count": 2,
   "id": "0e283f61-94f0-4a70-8548-2b246f6cfb11",
   "metadata": {},
   "outputs": [],
   "source": [
    "def calibration_value_1(item: str) -> int:\n",
    "    digits = list([d for d in item if d.isdigit()])\n",
    "    return int(f\"{digits[0]}{digits[-1]}\")"
   ]
  },
  {
   "cell_type": "markdown",
   "id": "723bcb94-b070-4c50-aae6-b60bd8b60ad8",
   "metadata": {},
   "source": [
    "#### Testing\n",
    "\n",
    "The test data calibration values are `12`, `38`, `15`, and `77`.  The sum of these is `142`."
   ]
  },
  {
   "cell_type": "code",
   "execution_count": 3,
   "id": "e017cf4e-0138-49e0-bc24-c4440fabd064",
   "metadata": {},
   "outputs": [],
   "source": [
    "test_data_1 = [\n",
    "    \"1abc2\",\n",
    "    \"pqr3stu8vwx\",\n",
    "    \"a1b2c3d4e5f\",\n",
    "    \"treb7uchet\",\n",
    "]\n",
    "\n",
    "test_result_1: int = 0\n",
    "for line in test_data_1:\n",
    "    test_result_1 += calibration_value_1(line)\n",
    "\n",
    "assert(142 == test_result_1)"
   ]
  },
  {
   "cell_type": "markdown",
   "id": "aa228140-0edb-4e7e-b0c7-fe219084a1ec",
   "metadata": {},
   "source": [
    "#### Solution"
   ]
  },
  {
   "cell_type": "code",
   "execution_count": 4,
   "id": "91fc11b9-066c-4dc0-983c-82612cf4b50d",
   "metadata": {},
   "outputs": [
    {
     "name": "stdout",
     "output_type": "stream",
     "text": [
      "55607\n"
     ]
    }
   ],
   "source": [
    "part_1: int = 0\n",
    "for value in puzzle_data:\n",
    "    part_1 += calibration_value_1(value)\n",
    "print(part_1)"
   ]
  },
  {
   "cell_type": "markdown",
   "id": "43dbe57f-23be-45cb-bf35-1a40659cb741",
   "metadata": {},
   "source": [
    "## Part Two"
   ]
  },
  {
   "cell_type": "code",
   "execution_count": 5,
   "id": "aa02bb69-5951-4a19-a471-f7fce89ad8ef",
   "metadata": {},
   "outputs": [],
   "source": [
    "# map the digit names to their respective values\n",
    "names_values = {\n",
    "    \"one\": 1,\n",
    "    \"two\": 2,\n",
    "    \"three\": 3,\n",
    "    \"four\": 4,\n",
    "    \"five\": 5,\n",
    "    \"six\": 6,\n",
    "    \"seven\": 7,\n",
    "    \"eight\": 8,\n",
    "    \"nine\": 9,\n",
    "}\n",
    "\n",
    "def calibration_value_2(item: str) -> int:\n",
    "    digits: list[int] = []\n",
    "    for idx, ch in enumerate(item):\n",
    "        if ch.isdigit():\n",
    "            digits.append(int(ch))\n",
    "            continue\n",
    "        for name, value in names_values.items():\n",
    "            if item[idx:].startswith(name):\n",
    "                digits.append(value)\n",
    "                break\n",
    "    return int(f\"{digits[0]}{digits[-1]}\")"
   ]
  },
  {
   "cell_type": "markdown",
   "id": "e91cfb39-e9f5-47d9-89fb-03b2988e8216",
   "metadata": {},
   "source": [
    "#### Testing\n",
    "\n",
    "The calibration values are `29`, `83`, `13`, `24`, `42`, `14`, and `76`.  Adding these together produces `281`."
   ]
  },
  {
   "cell_type": "code",
   "execution_count": 6,
   "id": "2320f2d2-af5a-46bf-a747-744fbd485aa3",
   "metadata": {},
   "outputs": [],
   "source": [
    "test_data_2 = [\n",
    "    \"two1nine\",\n",
    "    \"eightwothree\",\n",
    "    \"abcone2threexyz\",\n",
    "    \"xtwone3four\",\n",
    "    \"4nineeightseven2\",\n",
    "    \"zoneight234\",\n",
    "    \"7pqrstsixteen\",\n",
    "]\n",
    "\n",
    "test_result_2: int = 0\n",
    "for line in test_data_2:\n",
    "    test_result_2 += calibration_value_2(line)\n",
    "\n",
    "assert(281 == test_result_2)"
   ]
  },
  {
   "cell_type": "markdown",
   "id": "8cb08731-d0ef-4f95-bf96-b564eeb295bb",
   "metadata": {},
   "source": [
    "#### Solution"
   ]
  },
  {
   "cell_type": "code",
   "execution_count": 7,
   "id": "a6793971-3be0-4f9f-88fd-8e80e59ee891",
   "metadata": {},
   "outputs": [
    {
     "name": "stdout",
     "output_type": "stream",
     "text": [
      "55291\n"
     ]
    }
   ],
   "source": [
    "part_2: int = 0\n",
    "with open(\"input/01.txt\") as inf:\n",
    "    for line in inf:\n",
    "        part_2 += calibration_value_2(line.strip())\n",
    "print(part_2)"
   ]
  },
  {
   "cell_type": "code",
   "execution_count": null,
   "id": "663cdb4d-5495-4563-8f00-d3fef43af168",
   "metadata": {},
   "outputs": [],
   "source": []
  }
 ],
 "metadata": {
  "kernelspec": {
   "display_name": "Python 3 (ipykernel)",
   "language": "python",
   "name": "python3"
  },
  "language_info": {
   "codemirror_mode": {
    "name": "ipython",
    "version": 3
   },
   "file_extension": ".py",
   "mimetype": "text/x-python",
   "name": "python",
   "nbconvert_exporter": "python",
   "pygments_lexer": "ipython3",
   "version": "3.11.6"
  }
 },
 "nbformat": 4,
 "nbformat_minor": 5
}
